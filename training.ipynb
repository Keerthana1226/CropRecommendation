{
 "cells": [
  {
   "cell_type": "code",
   "execution_count": null,
   "id": "8cfaf72b",
   "metadata": {},
   "outputs": [
    {
     "name": "stdout",
     "output_type": "stream",
     "text": [
      "Missing Values:\n",
      " N              0\n",
      "P              0\n",
      "K              0\n",
      "temperature    0\n",
      "humidity       0\n",
      "ph             0\n",
      "rainfall       0\n",
      "label          0\n",
      "dtype: int64\n",
      "          N         P         K  temperature  humidity        ph  rainfall  \\\n",
      "0  1.068797 -0.344551 -0.101688    -0.935587  0.472666  0.043302  1.810361   \n",
      "1  0.933329  0.140616 -0.141185    -0.759646  0.397051  0.734873  2.242058   \n",
      "2  0.255986  0.049647 -0.081939    -0.515898  0.486954  1.771510  2.921066   \n",
      "3  0.635298 -0.556811 -0.160933     0.172807  0.389805  0.660308  2.537048   \n",
      "4  0.743673 -0.344551 -0.121436    -1.083647  0.454792  1.497868  2.898373   \n",
      "\n",
      "   label  \n",
      "0     20  \n",
      "1     20  \n",
      "2     20  \n",
      "3     20  \n",
      "4     20  \n"
     ]
    }
   ],
   "source": [
    "import pandas as pd\n",
    "from sklearn.preprocessing import LabelEncoder, StandardScaler\n",
    "\n",
    "df = pd.read_csv(\"Crop_recommendation.csv\")  \n",
    "\n",
    "print(\"Missing Values:\\n\", df.isnull().sum())\n",
    "\n",
    "df.dropna(inplace=True)\n",
    "\n",
    "# Encode categorical labels\n",
    "label_encoder = LabelEncoder()\n",
    "df['label'] = label_encoder.fit_transform(df['label'])\n",
    "\n",
    "# Feature Scaling\n",
    "scaler = StandardScaler()\n",
    "numerical_features = ['N', 'P', 'K', 'temperature', 'humidity', 'ph', 'rainfall']\n",
    "df[numerical_features] = scaler.fit_transform(df[numerical_features])\n",
    "\n",
    "print(df.head())\n"
   ]
  },
  {
   "cell_type": "code",
   "execution_count": null,
   "id": "3f2bbb13",
   "metadata": {},
   "outputs": [
    {
     "name": "stdout",
     "output_type": "stream",
     "text": [
      "Training Data: (1782, 7), Validation Data: (198, 7), Unseen Test Data: (220, 7)\n"
     ]
    }
   ],
   "source": [
    "from sklearn.model_selection import train_test_split\n",
    "import numpy as np\n",
    "import pandas as pd\n",
    "from sklearn.model_selection import train_test_split\n",
    "from sklearn.ensemble import RandomForestClassifier  \n",
    "from sklearn.metrics import accuracy_score, classification_report, confusion_matrix\n",
    "\n",
    "data = pd.read_csv('Crop_recommendation.csv')\n",
    "\n",
    "X = data.drop('label', axis=1)\n",
    "y = data['label']\n",
    "\n",
    "# First split (Train + Validation vs. Unseen Test)\n",
    "X_train_valid, X_unseen, y_train_valid, y_unseen = train_test_split(X, y, test_size=0.10, random_state=42, stratify=y)\n",
    "\n",
    "# Split the Train + Validation into Training (80%) and Validation (10%)\n",
    "X_train, X_valid, y_train, y_valid = train_test_split(X_train_valid, y_train_valid, test_size=0.10, random_state=42, stratify=y_train_valid)\n",
    "\n",
    "print(f\"Training Data: {X_train.shape}, Validation Data: {X_valid.shape}, Unseen Test Data: {X_unseen.shape}\")\n"
   ]
  },
  {
   "cell_type": "code",
   "execution_count": null,
   "id": "9b870330",
   "metadata": {},
   "outputs": [
    {
     "name": "stdout",
     "output_type": "stream",
     "text": [
      "Validation Accuracy: 0.9949\n",
      "\n",
      "Confusion Matrix:\n",
      " [[9 0 0 0 0 0 0 0 0 0 0 0 0 0 0 0 0 0 0 0 0 0]\n",
      " [0 9 0 0 0 0 0 0 0 0 0 0 0 0 0 0 0 0 0 0 0 0]\n",
      " [0 0 9 0 0 0 0 0 0 0 0 0 0 0 0 0 0 0 0 0 0 0]\n",
      " [0 0 0 9 0 0 0 0 0 0 0 0 0 0 0 0 0 0 0 0 0 0]\n",
      " [0 0 0 0 9 0 0 0 0 0 0 0 0 0 0 0 0 0 0 0 0 0]\n",
      " [0 0 0 0 0 9 0 0 0 0 0 0 0 0 0 0 0 0 0 0 0 0]\n",
      " [0 0 0 0 0 0 9 0 0 0 0 0 0 0 0 0 0 0 0 0 0 0]\n",
      " [0 0 0 0 0 0 0 9 0 0 0 0 0 0 0 0 0 0 0 0 0 0]\n",
      " [0 0 0 0 0 0 0 0 9 0 0 0 0 0 0 0 0 0 0 0 0 0]\n",
      " [0 0 0 0 0 0 0 0 0 9 0 0 0 0 0 0 0 0 0 0 0 0]\n",
      " [0 0 0 0 0 0 0 0 0 0 9 0 0 0 0 0 0 0 0 0 0 0]\n",
      " [0 0 0 0 0 0 0 0 0 0 0 9 0 0 0 0 0 0 0 0 0 0]\n",
      " [0 0 0 0 0 0 0 0 0 0 0 0 9 0 0 0 0 0 0 0 0 0]\n",
      " [0 0 0 0 0 0 0 0 0 0 1 0 0 8 0 0 0 0 0 0 0 0]\n",
      " [0 0 0 0 0 0 0 0 0 0 0 0 0 0 9 0 0 0 0 0 0 0]\n",
      " [0 0 0 0 0 0 0 0 0 0 0 0 0 0 0 9 0 0 0 0 0 0]\n",
      " [0 0 0 0 0 0 0 0 0 0 0 0 0 0 0 0 9 0 0 0 0 0]\n",
      " [0 0 0 0 0 0 0 0 0 0 0 0 0 0 0 0 0 9 0 0 0 0]\n",
      " [0 0 0 0 0 0 0 0 0 0 0 0 0 0 0 0 0 0 9 0 0 0]\n",
      " [0 0 0 0 0 0 0 0 0 0 0 0 0 0 0 0 0 0 0 9 0 0]\n",
      " [0 0 0 0 0 0 0 0 0 0 0 0 0 0 0 0 0 0 0 0 9 0]\n",
      " [0 0 0 0 0 0 0 0 0 0 0 0 0 0 0 0 0 0 0 0 0 9]]\n",
      "\n",
      "Classification Report:\n",
      "               precision    recall  f1-score   support\n",
      "\n",
      "       apple       1.00      1.00      1.00         9\n",
      "      banana       1.00      1.00      1.00         9\n",
      "   blackgram       1.00      1.00      1.00         9\n",
      "    chickpea       1.00      1.00      1.00         9\n",
      "     coconut       1.00      1.00      1.00         9\n",
      "      coffee       1.00      1.00      1.00         9\n",
      "      cotton       1.00      1.00      1.00         9\n",
      "      grapes       1.00      1.00      1.00         9\n",
      "        jute       1.00      1.00      1.00         9\n",
      " kidneybeans       1.00      1.00      1.00         9\n",
      "      lentil       0.90      1.00      0.95         9\n",
      "       maize       1.00      1.00      1.00         9\n",
      "       mango       1.00      1.00      1.00         9\n",
      "   mothbeans       1.00      0.89      0.94         9\n",
      "    mungbean       1.00      1.00      1.00         9\n",
      "   muskmelon       1.00      1.00      1.00         9\n",
      "      orange       1.00      1.00      1.00         9\n",
      "      papaya       1.00      1.00      1.00         9\n",
      "  pigeonpeas       1.00      1.00      1.00         9\n",
      " pomegranate       1.00      1.00      1.00         9\n",
      "        rice       1.00      1.00      1.00         9\n",
      "  watermelon       1.00      1.00      1.00         9\n",
      "\n",
      "    accuracy                           0.99       198\n",
      "   macro avg       1.00      0.99      0.99       198\n",
      "weighted avg       1.00      0.99      0.99       198\n",
      "\n"
     ]
    }
   ],
   "source": [
    "from sklearn.ensemble import RandomForestClassifier\n",
    "from sklearn.metrics import accuracy_score\n",
    "\n",
    "# Model training\n",
    "model = RandomForestClassifier(n_estimators=50, max_depth=20, min_samples_leaf=1, min_samples_split=5, random_state=42)\n",
    "model.fit(X_train, y_train)\n",
    "\n",
    "# Validation\n",
    "y_valid_pred = model.predict(X_valid)\n",
    "conf_matrix = confusion_matrix(y_valid, y_valid_pred)\n",
    "class_report = classification_report(y_valid, y_valid_pred)\n",
    "valid_accuracy = accuracy_score(y_valid, y_valid_pred)\n",
    "print(f\"Validation Accuracy: {valid_accuracy:.4f}\")\n",
    "print(\"\\nConfusion Matrix:\\n\", conf_matrix)\n",
    "print(\"\\nClassification Report:\\n\", class_report)"
   ]
  },
  {
   "cell_type": "code",
   "execution_count": null,
   "id": "48b910fc",
   "metadata": {},
   "outputs": [
    {
     "name": "stdout",
     "output_type": "stream",
     "text": [
      "Unseen Test Accuracy: 0.9909\n",
      "\n",
      "Confusion Matrix:\n",
      " [[10  0  0  0  0  0  0  0  0  0  0  0  0  0  0  0  0  0  0  0  0  0]\n",
      " [ 0 10  0  0  0  0  0  0  0  0  0  0  0  0  0  0  0  0  0  0  0  0]\n",
      " [ 0  0  9  0  0  0  0  0  0  0  0  1  0  0  0  0  0  0  0  0  0  0]\n",
      " [ 0  0  0 10  0  0  0  0  0  0  0  0  0  0  0  0  0  0  0  0  0  0]\n",
      " [ 0  0  0  0 10  0  0  0  0  0  0  0  0  0  0  0  0  0  0  0  0  0]\n",
      " [ 0  0  0  0  0 10  0  0  0  0  0  0  0  0  0  0  0  0  0  0  0  0]\n",
      " [ 0  0  0  0  0  0 10  0  0  0  0  0  0  0  0  0  0  0  0  0  0  0]\n",
      " [ 0  0  0  0  0  0  0 10  0  0  0  0  0  0  0  0  0  0  0  0  0  0]\n",
      " [ 0  0  0  0  0  0  0  0 10  0  0  0  0  0  0  0  0  0  0  0  0  0]\n",
      " [ 0  0  0  0  0  0  0  0  0 10  0  0  0  0  0  0  0  0  0  0  0  0]\n",
      " [ 0  0  0  0  0  0  0  0  0  0 10  0  0  0  0  0  0  0  0  0  0  0]\n",
      " [ 0  0  0  0  0  0  0  0  0  0  0 10  0  0  0  0  0  0  0  0  0  0]\n",
      " [ 0  0  0  0  0  0  0  0  0  0  0  0 10  0  0  0  0  0  0  0  0  0]\n",
      " [ 0  0  0  0  0  0  0  0  0  0  0  0  0 10  0  0  0  0  0  0  0  0]\n",
      " [ 0  0  0  0  0  0  0  0  0  0  0  0  0  0 10  0  0  0  0  0  0  0]\n",
      " [ 0  0  0  0  0  0  0  0  0  0  0  0  0  0  0 10  0  0  0  0  0  0]\n",
      " [ 0  0  0  0  0  0  0  0  0  0  0  0  0  0  0  0 10  0  0  0  0  0]\n",
      " [ 0  0  0  0  0  0  0  0  0  0  0  0  0  0  0  0  0 10  0  0  0  0]\n",
      " [ 0  0  0  0  0  0  0  0  0  0  0  0  0  0  0  0  0  0 10  0  0  0]\n",
      " [ 0  0  0  0  0  0  0  0  0  0  0  0  0  0  0  0  0  0  0 10  0  0]\n",
      " [ 0  0  0  0  0  0  0  0  1  0  0  0  0  0  0  0  0  0  0  0  9  0]\n",
      " [ 0  0  0  0  0  0  0  0  0  0  0  0  0  0  0  0  0  0  0  0  0 10]]\n",
      "\n",
      "Classification Report:\n",
      "               precision    recall  f1-score   support\n",
      "\n",
      "       apple       1.00      1.00      1.00        10\n",
      "      banana       1.00      1.00      1.00        10\n",
      "   blackgram       1.00      0.90      0.95        10\n",
      "    chickpea       1.00      1.00      1.00        10\n",
      "     coconut       1.00      1.00      1.00        10\n",
      "      coffee       1.00      1.00      1.00        10\n",
      "      cotton       1.00      1.00      1.00        10\n",
      "      grapes       1.00      1.00      1.00        10\n",
      "        jute       0.91      1.00      0.95        10\n",
      " kidneybeans       1.00      1.00      1.00        10\n",
      "      lentil       1.00      1.00      1.00        10\n",
      "       maize       0.91      1.00      0.95        10\n",
      "       mango       1.00      1.00      1.00        10\n",
      "   mothbeans       1.00      1.00      1.00        10\n",
      "    mungbean       1.00      1.00      1.00        10\n",
      "   muskmelon       1.00      1.00      1.00        10\n",
      "      orange       1.00      1.00      1.00        10\n",
      "      papaya       1.00      1.00      1.00        10\n",
      "  pigeonpeas       1.00      1.00      1.00        10\n",
      " pomegranate       1.00      1.00      1.00        10\n",
      "        rice       1.00      0.90      0.95        10\n",
      "  watermelon       1.00      1.00      1.00        10\n",
      "\n",
      "    accuracy                           0.99       220\n",
      "   macro avg       0.99      0.99      0.99       220\n",
      "weighted avg       0.99      0.99      0.99       220\n",
      "\n"
     ]
    }
   ],
   "source": [
    "# Predict on unseen test data\n",
    "y_unseen_pred = model.predict(X_unseen)\n",
    "\n",
    "# Evaluate performance\n",
    "unseen_accuracy = accuracy_score(y_unseen, y_unseen_pred)\n",
    "print(f\"Unseen Test Accuracy: {unseen_accuracy:.4f}\")\n",
    "conf_matrix = confusion_matrix(y_unseen, y_unseen_pred)\n",
    "class_report = classification_report(y_unseen, y_unseen_pred)\n",
    "print(\"\\nConfusion Matrix:\\n\", conf_matrix)\n",
    "print(\"\\nClassification Report:\\n\", class_report)"
   ]
  },
  {
   "cell_type": "code",
   "execution_count": null,
   "id": "49fa0300",
   "metadata": {},
   "outputs": [
    {
     "data": {
      "text/plain": [
       "['crop_recommendation_model.joblib']"
      ]
     },
     "execution_count": 6,
     "metadata": {},
     "output_type": "execute_result"
    }
   ],
   "source": [
    "import joblib\n",
    "\n",
    "joblib.dump(model, \"crop_recommendation_model.joblib\")\n"
   ]
  },
  {
   "cell_type": "code",
   "execution_count": null,
   "id": "c58546ea",
   "metadata": {},
   "outputs": [
    {
     "name": "stdout",
     "output_type": "stream",
     "text": [
      "Enter the values for the following features:\n",
      "\n",
      "Recommended Crops (Above 75% Confidence):\n",
      "rice: 96.40% confidence\n"
     ]
    },
    {
     "name": "stderr",
     "output_type": "stream",
     "text": [
      "c:\\Users\\Dell\\AppData\\Local\\Programs\\Python\\Python311\\Lib\\site-packages\\sklearn\\utils\\validation.py:2739: UserWarning: X does not have valid feature names, but RandomForestClassifier was fitted with feature names\n",
      "  warnings.warn(\n"
     ]
    }
   ],
   "source": [
    "import numpy as np\n",
    "import joblib\n",
    "\n",
    "model = joblib.load(\"crop_recommendation_model.joblib\")\n",
    "\n",
    "feature_names = [\"N\", \"P\", \"K\", \"temperature\", \"humidity\", \"ph\", \"rainfall\"]\n",
    "\n",
    "def get_user_input():\n",
    "    user_data = []\n",
    "    print(\"Enter the values for the following features:\")\n",
    "    for feature in feature_names:\n",
    "        value = float(input(f\"{feature}: \"))\n",
    "        user_data.append(value)\n",
    "    \n",
    "    return np.array(user_data).reshape(1, -1)\n",
    "\n",
    "user_input = get_user_input()\n",
    "\n",
    "probabilities = model.predict_proba(user_input)\n",
    "\n",
    "crop_labels = model.classes_\n",
    "\n",
    "threshold = 0.75  \n",
    "\n",
    "filtered_crops = [(crop_labels[idx], probabilities[0][idx]) for idx in np.argsort(probabilities[0])[::-1] if probabilities[0][idx] >= threshold]\n",
    "\n",
    "if filtered_crops:\n",
    "    print(\"\\nRecommended Crops (Above 75% Confidence):\")\n",
    "    for crop, confidence in filtered_crops:\n",
    "        print(f\"{crop}: {confidence * 100:.2f}% confidence\")\n",
    "else:\n",
    "    print(\"\\nNo crops found with confidence above 75%. Try adjusting your inputs.\")\n"
   ]
  }
 ],
 "metadata": {
  "kernelspec": {
   "display_name": "Python 3",
   "language": "python",
   "name": "python3"
  },
  "language_info": {
   "codemirror_mode": {
    "name": "ipython",
    "version": 3
   },
   "file_extension": ".py",
   "mimetype": "text/x-python",
   "name": "python",
   "nbconvert_exporter": "python",
   "pygments_lexer": "ipython3",
   "version": "3.11.9"
  }
 },
 "nbformat": 4,
 "nbformat_minor": 5
}
